{
 "cells": [
  {
   "cell_type": "code",
   "execution_count": 7,
   "metadata": {},
   "outputs": [],
   "source": [
    "import numpy as np\n",
    "\n",
    "RandomRange = np.random.permutation(71)"
   ]
  },
  {
   "cell_type": "code",
   "execution_count": 11,
   "metadata": {},
   "outputs": [],
   "source": [
    "f = open(\"questionnaire.txt\", \"r\")\n",
    "g = open(\"form_html.txt\",\"w\")\n",
    "Q = f.readlines()\n",
    "for index in RandomRange:\n",
    "\tquestionnaire = f\"\"\"\n",
    "                                        <div class=\"col-12 col-12\">\n",
    "\t\t\t\t\t\t\t\t\t\t\t<h3>\n",
    "\t\t\t\t\t\t\t\t\t\t\t\t{Q[index]}\n",
    "\t\t\t\t\t\t\t\t\t\t\t</h3>\n",
    "\t\t\t\t\t\t\t\t\t\t</div>\n",
    "\t\t\t\t\t\t\t\t\t\t<div class=\"col-1 col-12-small\">\n",
    "\t\t\t\t\t\t\t\t\t\t\t<input type=\"radio\" id=\"Q{index}R1\" name=\"Q{index}R\">\n",
    "\t\t\t\t\t\t\t\t\t\t\t<label for=\"Q{index}R1\">1</label>\n",
    "\t\t\t\t\t\t\t\t\t\t</div>\n",
    "\t\t\t\t\t\t\t\t\t\t<div class=\"col-1 col-12-small\">\n",
    "\t\t\t\t\t\t\t\t\t\t\t<input type=\"radio\" id=\"Q{index}R2\" name=\"Q{index}R\">\n",
    "\t\t\t\t\t\t\t\t\t\t\t<label for=\"Q{index}R2\">2</label>\n",
    "\t\t\t\t\t\t\t\t\t\t</div>\n",
    "\t\t\t\t\t\t\t\t\t\t<div class=\"col-1 col-12-small\">\n",
    "\t\t\t\t\t\t\t\t\t\t\t<input type=\"radio\" id=\"Q{index}R3\" name=\"Q{index}R\">\n",
    "\t\t\t\t\t\t\t\t\t\t\t<label for=\"Q{index}R3\">3</label>\n",
    "\t\t\t\t\t\t\t\t\t\t</div>\n",
    "\t\t\t\t\t\t\t\t\t\t<div class=\"col-1 col-12-small\">\n",
    "\t\t\t\t\t\t\t\t\t\t\t<input type=\"radio\" id=\"Q{index}R4\" name=\"Q{index}R\">\n",
    "\t\t\t\t\t\t\t\t\t\t\t<label for=\"Q{index}R4\">4</label>\n",
    "\t\t\t\t\t\t\t\t\t\t</div>\n",
    "\t\t\t\t\t\t\t\t\t\t<div class=\"col-1 col-12-small\">\n",
    "\t\t\t\t\t\t\t\t\t\t\t<input type=\"radio\" id=\"Q{index}R5\" name=\"Q{index}R\">\n",
    "\t\t\t\t\t\t\t\t\t\t\t<label for=\"Q{index}R5\">5</label>\n",
    "\t\t\t\t\t\t\t\t\t\t</div>\n",
    "\t\t\t\t\t\t\t\t\t\t<div class=\"col-1 col-12-small\">\n",
    "\t\t\t\t\t\t\t\t\t\t\t<input type=\"radio\" id=\"Q{index}R6\" name=\"Q{index}R\">\n",
    "\t\t\t\t\t\t\t\t\t\t\t<label for=\"Q{index}R6\">6</label>\n",
    "\t\t\t\t\t\t\t\t\t\t</div>\n",
    "\t\t\t\t\t\t\t\t\t\t<div class=\"col-1 col-12-small\">\n",
    "\t\t\t\t\t\t\t\t\t\t\t<input type=\"radio\" id=\"Q{index}R7\" name=\"Q{index}R\">\n",
    "\t\t\t\t\t\t\t\t\t\t\t<label for=\"Q{index}R7\">7</label>\n",
    "\t\t\t\t\t\t\t\t\t\t</div>\"\"\"\n",
    "\tg.write(questionnaire)\n",
    "g.close()"
   ]
  },
  {
   "cell_type": "code",
   "execution_count": 9,
   "metadata": {},
   "outputs": [
    {
     "name": "stdout",
     "output_type": "stream",
     "text": [
      "<div class=\"col-1 col-12-small\">\n",
      "    <input type=\"radio\" id=\"Q{index}R1\" name=\"Q{index}R\">\n",
      "    <label for=\"Q{index}R1\">1</label>\n",
      "</div>\n",
      "<div class=\"col-1 col-12-small\">\n",
      "    <input type=\"radio\" id=\"Q{index}R2\" name=\"Q{index}R\">\n",
      "    <label for=\"Q{index}R2\">2</label>\n",
      "</div>\n",
      "<div class=\"col-1 col-12-small\">\n",
      "    <input type=\"radio\" id=\"Q{index}R3\" name=\"Q{index}R\">\n",
      "    <label for=\"Q{index}R3\">3</label>\n",
      "</div>\n",
      "<div class=\"col-1 col-12-small\">\n",
      "    <input type=\"radio\" id=\"Q{index}R4\" name=\"Q{index}R\">\n",
      "    <label for=\"Q{index}R4\">4</label>\n",
      "</div>\n",
      "<div class=\"col-1 col-12-small\">\n",
      "    <input type=\"radio\" id=\"Q{index}R5\" name=\"Q{index}R\">\n",
      "    <label for=\"Q{index}R5\">5</label>\n",
      "</div>\n",
      "<div class=\"col-1 col-12-small\">\n",
      "    <input type=\"radio\" id=\"Q{index}R6\" name=\"Q{index}R\">\n",
      "    <label for=\"Q{index}R6\">6</label>\n",
      "</div>\n",
      "<div class=\"col-1 col-12-small\">\n",
      "    <input type=\"radio\" id=\"Q{index}R7\" name=\"Q{index}R\">\n",
      "    <label for=\"Q{index}R7\">7</label>\n",
      "</div>\n"
     ]
    }
   ],
   "source": [
    "for i in range(1,8):\n",
    "    print(f\"\"\"<div class=\"col-1 col-12-small\">\n",
    "    <input type=\"radio\" id=\"Q{{index}}R{i}\" name=\"Q{{index}}R\">\n",
    "    <label for=\"Q{{index}}R{i}\">{i}</label>\n",
    "</div>\"\"\")"
   ]
  }
 ],
 "metadata": {
  "kernelspec": {
   "display_name": "base",
   "language": "python",
   "name": "python3"
  },
  "language_info": {
   "codemirror_mode": {
    "name": "ipython",
    "version": 3
   },
   "file_extension": ".py",
   "mimetype": "text/x-python",
   "name": "python",
   "nbconvert_exporter": "python",
   "pygments_lexer": "ipython3",
   "version": "3.9.12"
  },
  "orig_nbformat": 4
 },
 "nbformat": 4,
 "nbformat_minor": 2
}
